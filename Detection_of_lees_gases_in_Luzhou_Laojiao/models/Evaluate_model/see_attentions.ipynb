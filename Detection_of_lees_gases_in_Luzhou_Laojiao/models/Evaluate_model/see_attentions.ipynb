{
 "cells": [
  {
   "cell_type": "code",
   "execution_count": 47,
   "id": "b486f5c3-9d95-4286-9620-49cd159882d9",
   "metadata": {},
   "outputs": [],
   "source": [
    "import os\n",
    "import sys\n",
    "import torch\n",
    "import torch.nn as nn\n",
    "import torch.nn.functional as F\n",
    "import matplotlib.pyplot as plt\n",
    "from torch.utils.data import DataLoader\n",
    "import numpy as np\n",
    "from torch.utils.data import Dataset\n",
    "import sys\n",
    "sys.path.append(r\"D:\\PYHTON\\python3.7\\DeepLearningProgram\\Remote_project\\Detection_of_lees_gases_in_Luzhou_Laojiao\\models\\Train_on_multi_GPUs\")\n",
    "from Models import Encoder, Decoder, Spec_transformer\n",
    "from my_dataset import MyDataset\n",
    "from mpl_toolkits.axes_grid1 import make_axes_locatable"
   ]
  },
  {
   "cell_type": "markdown",
   "id": "edfcfb0b-ab88-4292-b9fa-a2288a3c5919",
   "metadata": {},
   "source": [
    "current_path = os.getcwd()   # get current work dir\n",
    "script_dir = os.path.dirname(current_path)"
   ]
  },
  {
   "cell_type": "code",
   "execution_count": 2,
   "id": "3a026da1-0931-4da1-93a5-a21ac3795c88",
   "metadata": {},
   "outputs": [],
   "source": [
    "def predict(logits, labs):\n",
    "    components = [\"甲烷\", \"丙酮\", \"水\"]\n",
    "    prediction = [0 if pred < 0.5 else 1 for pred in logits[:3]]\n",
    "    for i in range(3):\n",
    "        if prediction[i] == 0:\n",
    "            components[i] = \"\"\n",
    "            logits[i+3] = 0\n",
    "    print(\"================================================\")\n",
    "    print(\"预测结果为：{} \\n\".format(prediction))\n",
    "    print(\"混合光谱包含的成分为：{} {} {} \\n\".format(components[0], components[1], components[2]))\n",
    "    print(\"对应浓度分别为：{:.2f} ppm, {:.2f} ppm, {:.2f} ppm\".format(logits[3]*50, logits[4]*50, logits[5]*2000))\n",
    "    print(\"================================================\")\n",
    "    \n",
    "    components = [\"甲烷\", \"丙酮\", \"水\"]\n",
    "    prediction = [0 if pred < 0.5 else 1 for pred in labs[:3]]\n",
    "    for i in range(3):\n",
    "        if prediction[i] == 0:\n",
    "            components[i] = \"\"\n",
    "            labs[i+3] = 0\n",
    "    print(\"================================================\")\n",
    "    print(\"实际结果为：{} \\n\".format(prediction))\n",
    "    print(\"混合光谱包含的成分为：{} {} {} \\n\".format(components[0], components[1], components[2]))\n",
    "    print(\"对应浓度分别为：{:.2f} ppm, {:.2f} ppm, {:.2f} ppm\".format(labs[3]*50, labs[4]*50, labs[5]*2000))\n",
    "    print(\"================================================\")"
   ]
  },
  {
   "cell_type": "markdown",
   "id": "01a3db5c-b3d9-4fd7-b902-522d72b08afb",
   "metadata": {},
   "source": [
    "## 生命全局数据类型"
   ]
  },
  {
   "cell_type": "code",
   "execution_count": 3,
   "id": "6fa394ca-d22a-47bd-bfc4-eb95654731a4",
   "metadata": {},
   "outputs": [],
   "source": [
    "# torch.set_default_dtype(torch.float64)"
   ]
  },
  {
   "cell_type": "markdown",
   "id": "34c12f71-155e-48d4-b837-8ca5352dedcd",
   "metadata": {},
   "source": [
    "# Load pre-trained Model"
   ]
  },
  {
   "cell_type": "code",
   "execution_count": 4,
   "id": "f8382578-f2b8-4cc2-9828-b629e13e8dfc",
   "metadata": {},
   "outputs": [],
   "source": [
    "# Instancing model\n",
    "num_layers = 1\n",
    "input_size = 1\n",
    "pre_size = 32\n",
    "attention_size = 128\n",
    "pf_dim = 64\n",
    "dropout = 0.1\n",
    "\n",
    "encoder = Encoder(num_layers, input_size, pre_size, attention_size, pf_dim, dropout)\n",
    "decoder = Decoder(pre_size, attention_size)\n",
    "spectrans = Spec_transformer(encoder, decoder)"
   ]
  },
  {
   "cell_type": "code",
   "execution_count": 5,
   "id": "1dad658b-3c91-4455-b599-d3fd6d6a0240",
   "metadata": {},
   "outputs": [
    {
     "data": {
      "text/plain": [
       "<All keys matched successfully>"
      ]
     },
     "execution_count": 5,
     "metadata": {},
     "output_type": "execute_result"
    }
   ],
   "source": [
    "# 加载已保存的 .pt 文件\n",
    "model_path = r\"D:\\PYHTON\\python3.7\\DeepLearningProgram\\科研项目\\Detection_of_lees_gases_in_Luzhou_Laojiao\\models\\saved_model\\saved_2.pt\"\n",
    "spectrans.load_state_dict(torch.load(model_path))"
   ]
  },
  {
   "cell_type": "markdown",
   "id": "e7507c71-bdfc-405f-b18b-9417275e44c8",
   "metadata": {},
   "source": [
    "# Load data"
   ]
  },
  {
   "cell_type": "code",
   "execution_count": 6,
   "id": "f84cf3f1-7b2e-40b8-ba44-e38a31293667",
   "metadata": {},
   "outputs": [],
   "source": [
    "def array_to_torch_float64(array):\n",
    "    input_data = torch.from_numpy(array).to(torch.float64)\n",
    "    return input_data"
   ]
  },
  {
   "cell_type": "code",
   "execution_count": 7,
   "id": "6a77fa26-0f1e-4e9e-a1f0-c0502c1da6af",
   "metadata": {},
   "outputs": [],
   "source": [
    "def array_to_tensor(array):\n",
    "    tensor = torch.from_numpy(array)\n",
    "    tensor = tensor.type(torch.cuda.FloatTensor)\n",
    "    return tensor"
   ]
  },
  {
   "cell_type": "markdown",
   "id": "c26a9dcd-22c0-4cb3-a562-8d6b81992c75",
   "metadata": {},
   "source": [
    "### spectra label and mask"
   ]
  },
  {
   "cell_type": "code",
   "execution_count": 8,
   "id": "7e9d5afc-2544-43db-9dbc-4ce4e1e48519",
   "metadata": {},
   "outputs": [],
   "source": [
    "# load data\n",
    "# root_path = r\"/zss_204/TLB/remote_server/Detection_of_lees_gases_in_Luzhou_Laojiao/Datasets/三组分气体生成的数据集/模拟数据集\"\n",
    "save_path1 = r\"D:\\PYHTON\\python3.7\\DeepLearningProgram\\Remote_project\\Detection_of_lees_gases_in_Luzhou_Laojiao\\Datasets\\三组分气体生成的数据集\\模拟数据集\\padded_dataset.npy\"\n",
    "# save_path1 = root_path + r\"/padded_dataset.npy\"\n",
    "spectraset = np.load(save_path1)\n",
    "spectraset = spectraset[:, :, np.newaxis]\n",
    "\n",
    "save_path2 = r\"D:\\PYHTON\\python3.7\\DeepLearningProgram\\Remote_project\\Detection_of_lees_gases_in_Luzhou_Laojiao\\Datasets\\三组分气体生成的数据集\\模拟数据集\\masked_dataset_label.npy\"\n",
    "label = np.load(save_path2)\n",
    "\n",
    "mask_path = r\"D:\\PYHTON\\python3.7\\DeepLearningProgram\\Remote_project\\Detection_of_lees_gases_in_Luzhou_Laojiao\\Datasets\\三组分气体生成的数据集\\模拟数据集\\mask.npy\"\n",
    "maskset = np.load(mask_path)"
   ]
  },
  {
   "cell_type": "markdown",
   "id": "3c5a83ee-d335-4b94-819f-0067aa671ac3",
   "metadata": {},
   "source": [
    "### Wavenumber "
   ]
  },
  {
   "cell_type": "code",
   "execution_count": 9,
   "id": "8c6e8a07-9457-4b79-b024-65ad2adc181e",
   "metadata": {},
   "outputs": [
    {
     "name": "stdout",
     "output_type": "stream",
     "text": [
      "(3321,)\n"
     ]
    }
   ],
   "source": [
    "nu_path = r\"D:\\PYHTON\\python3.7\\DeepLearningProgram\\科研项目\\多组分气体识别与浓度检测\\数据集\\HITRAN_dataset\\实验\\甲烷、丙酮、水数据库\\数据集\\原始数据\\波数.npy\"\n",
    "nu = np.load(nu_path)  # (3321,)\n",
    "print(nu.shape)"
   ]
  },
  {
   "cell_type": "markdown",
   "id": "604768a1-633f-4fa9-9831-99da4570dc64",
   "metadata": {},
   "source": [
    "### wavenumber checkpoints"
   ]
  },
  {
   "cell_type": "code",
   "execution_count": 10,
   "id": "5474b502-3472-436b-b7f2-7ad41814b97c",
   "metadata": {},
   "outputs": [],
   "source": [
    "root_path = r\"D:\\PYHTON\\python3.7\\DeepLearningProgram\\科研项目\\Detection_of_lees_gases_in_Luzhou_Laojiao\\Datasets\\三组分气体生成的数据集\\模拟数据集\"\n",
    "checkpoints_path = root_path + r\"\\checkpoints.npy\"\n",
    "checkpointset = np.load(checkpoints_path)"
   ]
  },
  {
   "cell_type": "markdown",
   "id": "011fa6f5-7893-4fd9-a1f5-f34afb3dc516",
   "metadata": {},
   "source": [
    "### turn to tensor"
   ]
  },
  {
   "cell_type": "code",
   "execution_count": 11,
   "id": "87420eed-59e1-45d2-a017-82cc1c1b49d5",
   "metadata": {},
   "outputs": [],
   "source": [
    "spectraset = array_to_tensor(spectraset)\n",
    "label = array_to_tensor(label)\n",
    "maskset = array_to_tensor(maskset)"
   ]
  },
  {
   "cell_type": "markdown",
   "id": "ec4824d4-762e-4570-bad1-e21e7b2fb371",
   "metadata": {},
   "source": [
    "原始数据 # (10150, 3321)"
   ]
  },
  {
   "cell_type": "code",
   "execution_count": 12,
   "id": "ecca10c3-315d-4a92-8df1-5c1af296c167",
   "metadata": {},
   "outputs": [
    {
     "name": "stdout",
     "output_type": "stream",
     "text": [
      "torch.Size([101500, 3321, 1])\n",
      "torch.Size([101500, 6])\n",
      "torch.Size([101500, 3321])\n",
      "(101500, 2)\n"
     ]
    }
   ],
   "source": [
    "print(spectraset.shape)\n",
    "print(label.shape)\n",
    "print(maskset.shape)\n",
    "print(checkpointset.shape)"
   ]
  },
  {
   "cell_type": "markdown",
   "id": "adf2319f-e006-4474-aec3-8e5997461829",
   "metadata": {},
   "source": [
    "## 看下图"
   ]
  },
  {
   "cell_type": "code",
   "execution_count": 22,
   "id": "8e6f1995-355f-45a5-8d39-1d69e53b2f4f",
   "metadata": {},
   "outputs": [
    {
     "data": {
      "image/png": "[encoded data removed]",
      "text/plain": [
       "<Figure size 432x288 with 1 Axes>"
      ]
     },
     "metadata": {
      "needs_background": "light"
     },
     "output_type": "display_data"
    }
   ],
   "source": [
    "index = 1400\n",
    "extracted_spectrum = spectraset[index].unsqueeze(0)   # [1, 3321, 1]\n",
    "extracted_mask = maskset[index]    # torch.Size([3321])\n",
    "extracted_label = label[index]    # torch.Size([6])\n",
    "checkpoints = checkpointset[index]  # (2,)\n",
    "\n",
    "start = int(checkpoints[0])\n",
    "end = int(checkpoints[1])\n",
    "extracted_nu = nu[start : end]\n",
    "plot_sample = extracted_spectrum.squeeze()[: end-start]\n",
    "\n",
    "plt.figure()\n",
    "plt.plot(extracted_nu, plot_sample.cpu().numpy())\n",
    "plt.xlim(extracted_nu[0], extracted_nu[-1])\n",
    "plt.show()"
   ]
  },
  {
   "cell_type": "code",
   "execution_count": 23,
   "id": "a99a53b6-65e8-4277-a61b-96567570d68c",
   "metadata": {},
   "outputs": [
    {
     "name": "stdout",
     "output_type": "stream",
     "text": [
      "Using GPU\n"
     ]
    }
   ],
   "source": [
    "# 检查GPU是否可用\n",
    "if torch.cuda.is_available():\n",
    "    device = torch.device(\"cuda\")\n",
    "    print(\"Using GPU\")\n",
    "else:\n",
    "    device = torch.device(\"cpu\")\n",
    "    print(\"Using CPU\")\n",
    "\n",
    "spectrans.to(device)  # 将模型移到GPU上\n",
    "# 设置模型为评估模式\n",
    "spectrans.eval()\n",
    "\n",
    "sample_spec = spectraset[index].unsqueeze(0).to(device)\n",
    "sample_label = label[index]\n",
    "sample_mask = maskset[index].unsqueeze(0).to(device)\n",
    "\n",
    "weight_list = []\n",
    "\n",
    "# 使用模型进行预测\n",
    "with torch.no_grad():\n",
    "    pred, weight_lists = spectrans(sample_spec, sample_mask, weight_list)\n",
    "    y_sample = pred.cpu().detach().numpy()"
   ]
  },
  {
   "cell_type": "code",
   "execution_count": 24,
   "id": "fb04b784-eb4f-4dde-8721-45ec5a314f54",
   "metadata": {},
   "outputs": [
    {
     "name": "stdout",
     "output_type": "stream",
     "text": [
      "(6,)\n",
      "2\n"
     ]
    }
   ],
   "source": [
    "print(y_sample.shape)\n",
    "print(len(weight_lists))"
   ]
  },
  {
   "cell_type": "code",
   "execution_count": 25,
   "id": "5af33ffd-47a4-48aa-ae06-cdcbf8959bb9",
   "metadata": {},
   "outputs": [
    {
     "name": "stdout",
     "output_type": "stream",
     "text": [
      "================================================\n",
      "预测结果为：[1, 1, 1] \n",
      "\n",
      "混合光谱包含的成分为：甲烷 丙酮 水 \n",
      "\n",
      "对应浓度分别为：31.01 ppm, 2.40 ppm, 1369.51 ppm\n",
      "================================================\n",
      "================================================\n",
      "实际结果为：[1, 1, 1] \n",
      "\n",
      "混合光谱包含的成分为：甲烷 丙酮 水 \n",
      "\n",
      "对应浓度分别为：29.00 ppm, 1.00 ppm, 1656.00 ppm\n",
      "================================================\n"
     ]
    }
   ],
   "source": [
    "predict(y_sample, sample_label)"
   ]
  },
  {
   "cell_type": "code",
   "execution_count": null,
   "id": "8bc06619-5db4-4a76-9ab9-7b0628444108",
   "metadata": {},
   "outputs": [],
   "source": []
  },
  {
   "cell_type": "code",
   "execution_count": 55,
   "id": "ac5fe616-aca2-4a7a-b958-5443198c6c66",
   "metadata": {},
   "outputs": [],
   "source": [
    "def see_and_compare(index):\n",
    "    \n",
    "    extracted_spectrum = spectraset[index].unsqueeze(0)   # [1, 3321, 1]\n",
    "    extracted_mask = maskset[index]    # torch.Size([3321])\n",
    "    extracted_label = label[index]    # torch.Size([6])\n",
    "    checkpoints = checkpointset[index]  # (2,)\n",
    "\n",
    "    start = int(checkpoints[0])\n",
    "    end = int(checkpoints[1])\n",
    "    extracted_nu = nu[start : end]\n",
    "    plot_sample = extracted_spectrum.squeeze()[: end-start]\n",
    "    \n",
    "    # 检查GPU是否可用\n",
    "    if torch.cuda.is_available():\n",
    "        device = torch.device(\"cuda\")\n",
    "        # print(\"Using GPU\")\n",
    "    else:\n",
    "        device = torch.device(\"cpu\")\n",
    "        # print(\"Using CPU\")\n",
    "\n",
    "    spectrans.to(device)  # 将模型移到GPU上\n",
    "    # 设置模型为评估模式\n",
    "    spectrans.eval()\n",
    "\n",
    "    sample_spec = spectraset[index].unsqueeze(0).to(device)\n",
    "    sample_label = label[index]\n",
    "    sample_mask = maskset[index].unsqueeze(0).to(device)\n",
    "\n",
    "    weight_list = []\n",
    "\n",
    "    # 使用模型进行预测\n",
    "    with torch.no_grad():\n",
    "        pred, weight_lists = spectrans(sample_spec, sample_mask, weight_list)\n",
    "        y_sample = pred.cpu().detach().numpy()\n",
    "    \n",
    "    attention1 = weight_lists[0].squeeze().cpu().numpy()\n",
    "    attention2 = weight_lists[1].squeeze().cpu().numpy()\n",
    "    \n",
    "    ax = plt.subplot(3, 1, 1)\n",
    "    im = ax.imshow(attention1[np.newaxis, :end-start], cmap=\"Spectral_r\", aspect='auto')\n",
    "    divider = make_axes_locatable(ax)\n",
    "\n",
    "    ax = plt.subplot(3, 1, 2)\n",
    "    im = ax.imshow(attention2[np.newaxis, :end-start], cmap=\"Spectral_r\", aspect='auto')\n",
    "    divider = make_axes_locatable(ax)\n",
    "\n",
    "    plt.subplot(3, 1, 3)\n",
    "    plt.plot(extracted_nu, plot_sample.cpu().numpy())\n",
    "    plt.xlim(extracted_nu[0], extracted_nu[-1])\n",
    "\n",
    "    plt.show()\n",
    "    \n",
    "    \n",
    "    predict(y_sample, sample_label)\n",
    "    \n",
    "    return pred, weight_lists"
   ]
  },
  {
   "cell_type": "code",
   "execution_count": null,
   "id": "f1f58cda-d1e2-4fcf-b145-a4505e4f3bfd",
   "metadata": {},
   "outputs": [],
   "source": []
  },
  {
   "cell_type": "markdown",
   "id": "f3cd0618-3d2d-4518-81f8-098db04d4a12",
   "metadata": {},
   "source": [
    "# See 1 see"
   ]
  },
  {
   "cell_type": "code",
   "execution_count": 56,
   "id": "abce4c5b-f10f-4c39-84d8-11089ca25bc1",
   "metadata": {},
   "outputs": [
    {
     "data": {
      "image/png": "[encoded data removed]",
      "text/plain": [
       "<Figure size 432x288 with 3 Axes>"
      ]
     },
     "metadata": {
      "needs_background": "light"
     },
     "output_type": "display_data"
    },
    {
     "name": "stdout",
     "output_type": "stream",
     "text": [
      "================================================\n",
      "预测结果为：[1, 0, 1] \n",
      "\n",
      "混合光谱包含的成分为：甲烷  水 \n",
      "\n",
      "对应浓度分别为：1.05 ppm, 0.00 ppm, 1332.48 ppm\n",
      "================================================\n",
      "================================================\n",
      "实际结果为：[0, 0, 1] \n",
      "\n",
      "混合光谱包含的成分为：  水 \n",
      "\n",
      "对应浓度分别为：0.00 ppm, 0.00 ppm, 1707.00 ppm\n",
      "================================================\n"
     ]
    }
   ],
   "source": [
    "index = 101490\n",
    "pred, weigths_list = see_and_compare(index)"
   ]
  },
  {
   "cell_type": "code",
   "execution_count": 57,
   "id": "377e0d2a-4c57-4576-9fdb-9e965f2a1374",
   "metadata": {},
   "outputs": [
    {
     "data": {
      "image/png": "[encoded data removed]",
      "text/plain": [
       "<Figure size 432x288 with 3 Axes>"
      ]
     },
     "metadata": {
      "needs_background": "light"
     },
     "output_type": "display_data"
    },
    {
     "name": "stdout",
     "output_type": "stream",
     "text": [
      "================================================\n",
      "预测结果为：[1, 1, 1] \n",
      "\n",
      "混合光谱包含的成分为：甲烷 丙酮 水 \n",
      "\n",
      "对应浓度分别为：21.27 ppm, 10.71 ppm, 1395.50 ppm\n",
      "================================================\n",
      "================================================\n",
      "实际结果为：[1, 1, 1] \n",
      "\n",
      "混合光谱包含的成分为：甲烷 丙酮 水 \n",
      "\n",
      "对应浓度分别为：23.00 ppm, 10.00 ppm, 1776.00 ppm\n",
      "================================================\n"
     ]
    }
   ],
   "source": [
    "index = 1109\n",
    "pred, weigths_list = see_and_compare(index)"
   ]
  },
  {
   "cell_type": "code",
   "execution_count": 58,
   "id": "6ac060c1-dfea-464f-9a87-2e2db3a228e5",
   "metadata": {},
   "outputs": [
    {
     "data": {
      "image/png": "[encoded data removed]",
      "text/plain": [
       "<Figure size 432x288 with 3 Axes>"
      ]
     },
     "metadata": {
      "needs_background": "light"
     },
     "output_type": "display_data"
    },
    {
     "name": "stdout",
     "output_type": "stream",
     "text": [
      "================================================\n",
      "预测结果为：[0, 1, 1] \n",
      "\n",
      "混合光谱包含的成分为： 丙酮 水 \n",
      "\n",
      "对应浓度分别为：0.00 ppm, 4.40 ppm, 1409.23 ppm\n",
      "================================================\n",
      "================================================\n",
      "实际结果为：[1, 1, 1] \n",
      "\n",
      "混合光谱包含的成分为：甲烷 丙酮 水 \n",
      "\n",
      "对应浓度分别为：1.00 ppm, 2.00 ppm, 1350.00 ppm\n",
      "================================================\n"
     ]
    }
   ],
   "source": [
    "index = 1\n",
    "pred, weigths_list = see_and_compare(index)"
   ]
  },
  {
   "cell_type": "code",
   "execution_count": 59,
   "id": "c4bf3010-8cc9-4442-abae-6185ec7fc3e6",
   "metadata": {},
   "outputs": [
    {
     "data": {
      "image/png": "[encoded data removed]",
      "text/plain": [
       "<Figure size 432x288 with 3 Axes>"
      ]
     },
     "metadata": {
      "needs_background": "light"
     },
     "output_type": "display_data"
    },
    {
     "name": "stdout",
     "output_type": "stream",
     "text": [
      "================================================\n",
      "预测结果为：[0, 1, 1] \n",
      "\n",
      "混合光谱包含的成分为： 丙酮 水 \n",
      "\n",
      "对应浓度分别为：0.00 ppm, 17.33 ppm, 1887.03 ppm\n",
      "================================================\n",
      "================================================\n",
      "实际结果为：[1, 1, 1] \n",
      "\n",
      "混合光谱包含的成分为：甲烷 丙酮 水 \n",
      "\n",
      "对应浓度分别为：1.00 ppm, 16.00 ppm, 1978.00 ppm\n",
      "================================================\n"
     ]
    }
   ],
   "source": [
    "index = 15\n",
    "pred, weigths_list = see_and_compare(index)"
   ]
  },
  {
   "cell_type": "code",
   "execution_count": 40,
   "id": "6954bdcf-6b5b-4ae2-b3e3-72187941be82",
   "metadata": {},
   "outputs": [
    {
     "name": "stdout",
     "output_type": "stream",
     "text": [
      "tensor([2.9689e-07, 1.0000e+00, 1.0000e+00, 1.3398e-02, 3.4662e-01, 9.4351e-01],\n",
      "       device='cuda:0')\n"
     ]
    }
   ],
   "source": [
    "print(pred)"
   ]
  },
  {
   "cell_type": "code",
   "execution_count": 61,
   "id": "42d8894f-bcca-4b42-93a8-75aa28f08113",
   "metadata": {},
   "outputs": [
    {
     "data": {
      "image/png": "[encoded data removed]",
      "text/plain": [
       "<Figure size 432x288 with 3 Axes>"
      ]
     },
     "metadata": {
      "needs_background": "light"
     },
     "output_type": "display_data"
    },
    {
     "name": "stdout",
     "output_type": "stream",
     "text": [
      "================================================\n",
      "预测结果为：[1, 1, 0] \n",
      "\n",
      "混合光谱包含的成分为：甲烷 丙酮  \n",
      "\n",
      "对应浓度分别为：2.39 ppm, 24.67 ppm, 0.00 ppm\n",
      "================================================\n",
      "================================================\n",
      "实际结果为：[1, 1, 1] \n",
      "\n",
      "混合光谱包含的成分为：甲烷 丙酮 水 \n",
      "\n",
      "对应浓度分别为：1.00 ppm, 26.00 ppm, 1410.00 ppm\n",
      "================================================\n"
     ]
    }
   ],
   "source": [
    "index = 25\n",
    "pred, weigths_list = see_and_compare(index)"
   ]
  },
  {
   "cell_type": "code",
   "execution_count": null,
   "id": "9d64f353-3753-4788-9171-2642acbadf26",
   "metadata": {},
   "outputs": [],
   "source": []
  }
 ],
 "metadata": {
  "kernelspec": {
   "display_name": "Python 3 (ipykernel)",
   "language": "python",
   "name": "python3"
  },
  "language_info": {
   "codemirror_mode": {
    "name": "ipython",
    "version": 3
   },
   "file_extension": ".py",
   "mimetype": "text/x-python",
   "name": "python",
   "nbconvert_exporter": "python",
   "pygments_lexer": "ipython3",
   "version": "3.7.4"
  }
 },
 "nbformat": 4,
 "nbformat_minor": 5
}
