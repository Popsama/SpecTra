{
 "cells": [
  {
   "cell_type": "code",
   "execution_count": 1,
   "id": "21cd37d7-9ef6-4050-8412-62b32bb86c0d",
   "metadata": {},
   "outputs": [],
   "source": [
    "import numpy  as np\n",
    "import torch"
   ]
  },
  {
   "cell_type": "code",
   "execution_count": 28,
   "id": "2d12c7a3-cd01-4144-9d90-f4aecfe7ac88",
   "metadata": {},
   "outputs": [],
   "source": [
    "class Masked_dataset():\n",
    "\n",
    "    \"\"\"\n",
    "    生成 masked dataset,\n",
    "    我们输入的原始光谱是 (number_data, seq_len), 其中seq len就是光谱向量的长度\n",
    "    我们目前考虑在完整的长度为3321个sampling points组成的2950~3150的光谱范围内\n",
    "    随机选择两个端点， 截取端点内的光谱，作为训练数据，\n",
    "    \n",
    "    \"\"\"\n",
    "\n",
    "    def __init__(self, if_fixed_window_length):\n",
    "\n",
    "        self.if_fixed_window_length = if_fixed_window_length\n",
    "\n",
    "    def generate_mask(self, selected_window_length, total_sequence_length):\n",
    "\n",
    "        assert selected_window_length < total_sequence_length, \"the selected window length should be lower than the total sequence length\"\n",
    "        mask = np.zeros(total_sequence_length)\n",
    "        \n",
    "        if self.if_fixed_window_length:\n",
    "            \n",
    "            start_point = np.random.randint(0, total_sequence_length-selected_window_length)\n",
    "            end_point = start_point + selected_window_length\n",
    "\n",
    "            mask[: selected_window_length] = 1\n",
    "            \"\"\"\n",
    "            这里的mask是一个长度为seq len的向量，因为我们目前是截取之后从头放在完整的光谱内，所以从0到截止位置，都是真实的光谱，\n",
    "            截止位置往后开始，是padding补的0，mask从这里开始全部是0，因此将来在使用mask时候，不会因为光谱本身的0而被分配一个-inf的\n",
    "            数值在计算attention的时候\n",
    "            \"\"\"\n",
    "        else:\n",
    "            start_point = 0\n",
    "            end_point = 0\n",
    "            # 使用循环确保起点和终点的差大于等于 200\n",
    "            # 这里200是一个保险，太小了光谱范围太短了，而且通常也不会这么小\n",
    "            while abs(start_point - end_point) < 200:\n",
    "                start_point = np.random.randint(0, total_sequence_length)\n",
    "                end_point = np.random.randint(0, total_sequence_length)\n",
    "                \n",
    "            mask[: end_point-start_point] = 1\n",
    "            \n",
    "        return mask, start_point, end_point\n",
    "\n",
    "    def apply_mask(self, dataset, selected_window_length):\n",
    "\n",
    "        number_data = dataset.shape[0]\n",
    "        total_data_length = dataset.shape[1]\n",
    "        checkpoints = np.zeros((number_data, 2))\n",
    "        mask_list = np.zeros((number_data, total_data_length))\n",
    "        masked_dataset = np.zeros((number_data, total_data_length))\n",
    "        \n",
    "        for i in range(number_data):\n",
    "            mask, start, end = self.generate_mask(selected_window_length, total_data_length)\n",
    "            mask_list[i] = mask\n",
    "            masked_dataset[i, :end-start] = dataset[i, start: end]\n",
    "            checkpoints[i, 0] = start\n",
    "            checkpoints[i, 1] = end\n",
    "\n",
    "        \"\"\"\n",
    "        mask list就是所有的mask\n",
    "        chekcpoint记录了在原施光谱中截取的端点的索引，有了这个，将来可以通过checkpoints对应到Nu上了\n",
    "        self.dataset 就是保存截取之后，并且被padding 0 了的新的数据集，每一行是一个截取的光谱，并且label与原施数据集的label对应\n",
    "\n",
    "        \"\"\"\n",
    "        return mask_list, checkpoints, masked_dataset"
   ]
  },
  {
   "cell_type": "code",
   "execution_count": 29,
   "id": "aef63e91-9d41-4c67-9d62-9512505ed597",
   "metadata": {},
   "outputs": [
    {
     "name": "stdout",
     "output_type": "stream",
     "text": [
      "(10, 10)\n"
     ]
    }
   ],
   "source": [
    "a = np.random.randn(10, 10)\n",
    "print(a.shape)"
   ]
  },
  {
   "cell_type": "code",
   "execution_count": 30,
   "id": "a0ab0d29-8138-4b05-ad65-094156864b29",
   "metadata": {},
   "outputs": [],
   "source": [
    "mask_dataset = Masked_dataset(False)\n",
    "mask_list, checkpoints, dataset = mask_dataset.apply_mask(a, 5)"
   ]
  },
  {
   "cell_type": "code",
   "execution_count": 31,
   "id": "2fb7a8ae-3fc0-4859-be9d-36b77fdbe669",
   "metadata": {},
   "outputs": [
    {
     "name": "stdout",
     "output_type": "stream",
     "text": [
      "[[-0.10131752 -1.80570545 -0.94228085 -1.89822749 -0.03223352 -0.92105166\n",
      "  -0.18840933  0.01064409  0.43751709  0.94069841]\n",
      " [ 0.55009984 -0.56001683  0.60601304 -1.05222666 -0.1087534  -1.75418838\n",
      "   0.54089968 -0.63365475  0.07446843  0.06098322]\n",
      " [ 0.16445849 -0.62098471 -0.86967252 -0.60899879 -0.01606063 -0.35421297\n",
      "  -1.23207985  1.67941567 -2.35239399  1.77483578]\n",
      " [ 0.15136193 -0.13105176 -1.13044838 -0.41982815 -1.4110316   1.69085568\n",
      "  -1.11750465  0.04438985  0.55317002 -0.34173056]\n",
      " [-0.37253958 -1.69588698 -0.40981865 -1.56280347 -0.83977588 -0.99886077\n",
      "  -0.14713719  3.06756589  0.51910039  0.20905589]\n",
      " [-0.63015401 -1.38024705 -1.45493027 -1.27426766  0.23388429  1.00399153\n",
      "   0.40752747 -0.03053307 -1.82687426  0.15567778]\n",
      " [ 0.12074594 -2.59121186  0.47140079 -1.10862341 -1.76158511 -2.16326841\n",
      "  -0.47158371  0.39573743  0.76062327 -0.01834627]\n",
      " [ 2.17181355 -0.14243467 -0.2308977   1.95159368 -0.38842306 -0.84359483\n",
      "   0.45483994  0.22661657 -0.01153107  0.76791286]\n",
      " [-0.19804617  2.44561897  1.65418655 -1.36205845 -1.10088784  0.27167771\n",
      "  -0.6687225   0.68442336  0.44727913 -0.32560953]\n",
      " [ 1.92621608  1.2785214  -1.32065473 -0.50652534  0.76900965 -1.12929248\n",
      "   0.46690006  1.56691041  0.15071048  0.74464737]]\n"
     ]
    }
   ],
   "source": [
    "print(a)"
   ]
  },
  {
   "cell_type": "code",
   "execution_count": 32,
   "id": "370fe342-6c4f-485b-92bc-5a404d471f2c",
   "metadata": {},
   "outputs": [
    {
     "name": "stdout",
     "output_type": "stream",
     "text": [
      "[[8. 8.]\n",
      " [2. 7.]\n",
      " [0. 7.]\n",
      " [4. 5.]\n",
      " [0. 6.]\n",
      " [1. 2.]\n",
      " [1. 9.]\n",
      " [3. 6.]\n",
      " [0. 1.]\n",
      " [3. 6.]]\n"
     ]
    }
   ],
   "source": [
    "print(checkpoints)"
   ]
  },
  {
   "cell_type": "code",
   "execution_count": 33,
   "id": "debbda7a-4597-4832-af97-21461f8612ac",
   "metadata": {},
   "outputs": [
    {
     "name": "stdout",
     "output_type": "stream",
     "text": [
      "[[0. 0. 0. 0. 0. 0. 0. 0. 0. 0.]\n",
      " [1. 1. 1. 1. 1. 0. 0. 0. 0. 0.]\n",
      " [1. 1. 1. 1. 1. 1. 1. 0. 0. 0.]\n",
      " [1. 0. 0. 0. 0. 0. 0. 0. 0. 0.]\n",
      " [1. 1. 1. 1. 1. 1. 0. 0. 0. 0.]\n",
      " [1. 0. 0. 0. 0. 0. 0. 0. 0. 0.]\n",
      " [1. 1. 1. 1. 1. 1. 1. 1. 0. 0.]\n",
      " [1. 1. 1. 0. 0. 0. 0. 0. 0. 0.]\n",
      " [1. 0. 0. 0. 0. 0. 0. 0. 0. 0.]\n",
      " [1. 1. 1. 0. 0. 0. 0. 0. 0. 0.]]\n"
     ]
    }
   ],
   "source": [
    "print(mask_list)"
   ]
  },
  {
   "cell_type": "code",
   "execution_count": null,
   "id": "3629f826-7795-4c69-913c-6478b39747c2",
   "metadata": {},
   "outputs": [],
   "source": []
  }
 ],
 "metadata": {
  "kernelspec": {
   "display_name": "nlp",
   "language": "python",
   "name": "nlp"
  },
  "language_info": {
   "codemirror_mode": {
    "name": "ipython",
    "version": 3
   },
   "file_extension": ".py",
   "mimetype": "text/x-python",
   "name": "python",
   "nbconvert_exporter": "python",
   "pygments_lexer": "ipython3",
   "version": "3.7.16"
  }
 },
 "nbformat": 4,
 "nbformat_minor": 5
}
